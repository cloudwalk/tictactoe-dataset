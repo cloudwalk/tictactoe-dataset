{
 "cells": [
  {
   "cell_type": "code",
   "execution_count": 2,
   "metadata": {},
   "outputs": [
    {
     "name": "stdout",
     "output_type": "stream",
     "text": [
      "\n",
      "Stats for 'o1-preview' model with instruction 'Let's think step-by-step.':\n",
      "Total Score: 20.00\n",
      "Duration (seconds):\n",
      "  Min: 10.60\n",
      "  Avg: 37.37\n",
      "  Max: 141.43\n",
      "\n",
      "Stats for 'o1-preview' model with instruction '\n",
      "    A player can play a perfect game of tic-tac-toe (to win or at least draw) if, each time it is their turn to play, they choose the first available move from the following list, as used in Newell and Simon's 1972 tic-tac-toe program.[19]\n",
      "    1. Win: If the player has two in a row, they can place a third to get three in a row.\n",
      "    2. Block: If the opponent has two in a row, the player must play the third themselves to block the opponent.\n",
      "    3. Fork: Cause a scenario where the player has two ways to win (two non-blocked lines of 2).\n",
      "    4. Block an opponent's fork: If there is only one possible fork for the opponent, the player should block it. Otherwise, the player should block all forks in any way that simultaneously allows them to make two in a row. Otherwise, the player should make a two in a row to force the opponent into defending, as long as it does not result in them producing a fork. For example, if \"X\" has two opposite corners and \"O\" has the center, \"O\" must not play a corner move to win. (Playing a corner move in this scenario produces a fork for \"X\" to win.)\n",
      "    5. Center: A player marks the center. (If it is the first move of the game, playing a corner move gives the second player more opportunities to make a mistake and may therefore be the better choice; however, it makes no difference between perfect players.)\n",
      "    6. Opposite corner: If the opponent is in the corner, the player plays the opposite corner.\n",
      "    7. Empty corner: The player plays in a corner square.\n",
      "    8. Empty side: The player plays in a middle square on any of the four sides.\n",
      "    ':\n",
      "Total Score: 28.00\n",
      "Duration (seconds):\n",
      "  Min: 11.16\n",
      "  Avg: 31.40\n",
      "  Max: 53.38\n"
     ]
    }
   ],
   "source": [
    "import json\n",
    "\n",
    "# Load dataset_top50_map.json\n",
    "with open('../dataset_top50_map.json', 'r') as f:\n",
    "    dataset_top50_map = json.load(f)\n",
    "\n",
    "with open('progressive_results.json', 'r') as f:\n",
    "    progressive_results = json.load(f)\n",
    "\n",
    "def get_score(move, board_hash):\n",
    "    if move in dataset_top50_map.get(board_hash, []):\n",
    "        return 1\n",
    "    return 0\n",
    "\n",
    "def calculate_stats(data, model_data):\n",
    "    scores = []\n",
    "    durations = []\n",
    "    \n",
    "    for board_hash, board_data in model_data['boards'].items():\n",
    "        move = board_data['move']\n",
    "        duration = board_data['duration']\n",
    "        \n",
    "        score = get_score(move, board_hash)\n",
    "        scores.append(score)\n",
    "        \n",
    "        durations.append(duration)\n",
    "    \n",
    "    total_score = sum(scores)\n",
    "    avg_duration = sum(durations) / len(durations) if durations else 0\n",
    "    max_duration = max(durations) if durations else 0\n",
    "    min_duration = min(durations) if durations else 0\n",
    "    \n",
    "    return {\n",
    "        'total_score': total_score,\n",
    "        'average_duration': avg_duration,\n",
    "        'max_duration': max_duration,\n",
    "        'min_duration': min_duration\n",
    "    }\n",
    "\n",
    "# Calculate stats for all models\n",
    "for model_data in progressive_results[2:]:\n",
    "    model = model_data['model']\n",
    "    instruction = model_data['instruction']\n",
    "    stats = calculate_stats(progressive_results, model_data)\n",
    "    \n",
    "    print(f\"\\nStats for '{model}' model with instruction '{instruction}':\")\n",
    "    print(f\"Total Score: {stats['total_score']:.2f}\")\n",
    "    print(\"Duration (seconds):\")\n",
    "    print(f\"  Min: {stats['min_duration']:.2f}\")\n",
    "    print(f\"  Avg: {stats['average_duration']:.2f}\")\n",
    "    print(f\"  Max: {stats['max_duration']:.2f}\")\n"
   ]
  }
 ],
 "metadata": {
  "kernelspec": {
   "display_name": "Python 3",
   "language": "python",
   "name": "python3"
  },
  "language_info": {
   "codemirror_mode": {
    "name": "ipython",
    "version": 3
   },
   "file_extension": ".py",
   "mimetype": "text/x-python",
   "name": "python",
   "nbconvert_exporter": "python",
   "pygments_lexer": "ipython3",
   "version": "3.11.0"
  }
 },
 "nbformat": 4,
 "nbformat_minor": 2
}
